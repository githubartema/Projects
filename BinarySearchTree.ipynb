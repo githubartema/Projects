{
  "nbformat": 4,
  "nbformat_minor": 0,
  "metadata": {
    "colab": {
      "name": "BinarySearchTree",
      "provenance": [],
      "collapsed_sections": [],
      "include_colab_link": true
    },
    "kernelspec": {
      "name": "python3",
      "display_name": "Python 3"
    }
  },
  "cells": [
    {
      "cell_type": "markdown",
      "metadata": {
        "id": "view-in-github",
        "colab_type": "text"
      },
      "source": [
        "<a href=\"https://colab.research.google.com/github/githubartema/root/blob/master/BinarySearchTree.ipynb\" target=\"_parent\"><img src=\"https://colab.research.google.com/assets/colab-badge.svg\" alt=\"Open In Colab\"/></a>"
      ]
    },
    {
      "cell_type": "code",
      "metadata": {
        "id": "TGR2ZDVi-aEe",
        "colab_type": "code",
        "colab": {}
      },
      "source": [
        "parent = None\n",
        "\n",
        "class Node:\n",
        "  def __init__(self, key):\n",
        "    self.key = key\n",
        "    self.parent_ = None\n",
        "    self.left_child = None\n",
        "    self.right_child = None\n",
        "\n",
        "def add(key):\n",
        "  global parent\n",
        "  if parent is None:\n",
        "    parent = Node(key)\n",
        "    parent.parent_ = parent\n",
        "  else:\n",
        "    parent_node, destination = find(parent, key)\n",
        "    if destination != None:\n",
        "      if destination == \"l\":\n",
        "        parent_node.left_child = Node(key)\n",
        "        parent_node.left_child.parent_ = parent_node\n",
        "      else:\n",
        "        parent_node.right_child = Node(key)\n",
        "        parent_node.right_child.parent_ = parent_node\n",
        "\n",
        "def find(node, key):\n",
        "  if key < node.key:\n",
        "    if not(node.left_child is None):\n",
        "      return find(node.left_child, key)\n",
        "    else:\n",
        "      return (node, \"l\")\n",
        "  if key > node.key:\n",
        "    if not(node.right_child is None):\n",
        "      return find(node.right_child, key)\n",
        "    else:\n",
        "      return (node, \"r\")\n",
        "  else:\n",
        "    return (node, None)\n",
        "\n",
        "def find_leftmax(node):\n",
        "  if node.right_child is None:\n",
        "    return node\n",
        "  else:\n",
        "    return find_leftmax(node.right_child)\n",
        "\n",
        "def delete_(key):\n",
        "  parent_node, destination = find(parent, key)\n",
        "  if destination is None:\n",
        "    if parent_node.right_child is None and parent_node.left_child is None:\n",
        "      parent_node = None\n",
        "    elif not(parent_node.right_child is None) and not(parent_node.left_child is None):\n",
        "      temporary_node = find_leftmax(parent_node.left_child)\n",
        "      temporary_node, parent_node = parent_node, temporary_node\n",
        "      parent_node = None\n",
        "    else:\n",
        "      if parent_node.right_child is None:\n",
        "        parent_node.left_child.parent_ = parent_node.parent_\n",
        "        if parent_node.parent_.left_child == parent_node:\n",
        "          parent_node.parent_.left_child = parent_node.left_child\n",
        "        else:\n",
        "          parent_node.parent_.right_child = parent_node.left_child\n",
        "      else:\n",
        "        parent_node.right_child.parent_ = parent_node.parent_\n",
        "        if parent_node.parent_.left_child == parent_node:\n",
        "          parent_node.parent_.left_child = parent_node.right_child\n",
        "        else:\n",
        "          parent_node.parent_.right_child = parent_node.right_child\n",
        "      return True       \n",
        "  else:\n",
        "    return False\n",
        "\n",
        "\n",
        "\n",
        "n = int(input())\n",
        "\n",
        "for _ in range(n):\n",
        "  [command, key] = input().split(\" \")\n",
        "  if command == \"add\":\n",
        "    add(int(key))\n",
        "  elif command == \"delete\":\n",
        "    print(delete_(int(key)))\n",
        "  else:\n",
        "    print(find(parent, int(key)))\n",
        "\n",
        "\n",
        "\n",
        "\n",
        "  \n",
        "\n",
        "\n",
        "\n",
        "\n",
        "\n"
      ],
      "execution_count": 0,
      "outputs": []
    },
    {
      "cell_type": "markdown",
      "metadata": {
        "id": "y9C07JRQgvpL",
        "colab_type": "text"
      },
      "source": [
        ""
      ]
    }
  ]
}